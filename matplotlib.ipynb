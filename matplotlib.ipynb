{
  "nbformat": 4,
  "nbformat_minor": 0,
  "metadata": {
    "colab": {
      "provenance": [],
      "authorship_tag": "ABX9TyMkEcbSBosK2RtnMlQQBoAw",
      "include_colab_link": true
    },
    "kernelspec": {
      "name": "python3",
      "display_name": "Python 3"
    },
    "language_info": {
      "name": "python"
    }
  },
  "cells": [
    {
      "cell_type": "markdown",
      "metadata": {
        "id": "view-in-github",
        "colab_type": "text"
      },
      "source": [
        "<a href=\"https://colab.research.google.com/github/harishpaasu/Drum-Kit/blob/main/matplotlib.ipynb\" target=\"_parent\"><img src=\"https://colab.research.google.com/assets/colab-badge.svg\" alt=\"Open In Colab\"/></a>"
      ]
    },
    {
      "cell_type": "code",
      "execution_count": null,
      "metadata": {
        "id": "hPuadwCPnVNt"
      },
      "outputs": [],
      "source": [
        "import matplotlib.pyplot as plt\n",
        "import numpy as np\n",
        "\n",
        "x_value = np.array ([8, 6, 3, 2, 7])\n",
        "y_value = np.array ([4, 9, 5, 3, 1])\n",
        "plt.plot(x_value, y_value)\n",
        "plt.show()\n"
      ]
    },
    {
      "cell_type": "code",
      "source": [
        "import matplotlib.pyplot as plt\n",
        "import numpy as np\n",
        "\n",
        "x_value = np.array([8, 6, 3, 2, 7])\n",
        "y_value = np.array([4, 9, 5, 3, 1])\n",
        "\n",
        "plt.plot(x_value, y_value)\n",
        "plt.show()\n"
      ],
      "metadata": {
        "id": "ohRDvHu6qF_C"
      },
      "execution_count": null,
      "outputs": []
    },
    {
      "cell_type": "code",
      "source": [
        "import matplotlib.pyplot as plt\n",
        "import numpy as np\n",
        "\n",
        "xvalue = np.array ([8, 6, 3, 2, 7])\n",
        "yvalue = np.array ([4, 9, 5, 3, 1])\n",
        "plt.plot(xvalue, yvalue)\n",
        "plt.show()\n"
      ],
      "metadata": {
        "id": "BpI-dMM4pWRr"
      },
      "execution_count": null,
      "outputs": []
    }
  ]
}